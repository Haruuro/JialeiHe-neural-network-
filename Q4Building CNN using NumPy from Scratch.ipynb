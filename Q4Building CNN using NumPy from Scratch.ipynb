{
 "cells": [
  {
   "cell_type": "code",
   "execution_count": 1,
   "id": "b292cc44",
   "metadata": {},
   "outputs": [
    {
     "name": "stderr",
     "output_type": "stream",
     "text": [
      "C:\\Users\\Jiale\\anaconda3\\Lib\\site-packages\\paramiko\\transport.py:219: CryptographyDeprecationWarning: Blowfish has been deprecated\n",
      "  \"class\": algorithms.Blowfish,\n"
     ]
    }
   ],
   "source": [
    "import numpy as np\n",
    "import pandas as pd\n",
    "import skimage.data\n",
    "import matplotlib\n",
    "# Reading the image  \n",
    "img = skimage.data.chelsea()  \n",
    "# Converting the image into gray which only has two dimensions\n",
    "img = skimage.color.rgb2gray(img)"
   ]
  },
  {
   "cell_type": "code",
   "execution_count": 2,
   "id": "048d3a5b",
   "metadata": {},
   "outputs": [
    {
     "data": {
      "text/plain": [
       "(300, 451)"
      ]
     },
     "execution_count": 2,
     "metadata": {},
     "output_type": "execute_result"
    }
   ],
   "source": [
    "img.shape"
   ]
  },
  {
   "cell_type": "code",
   "execution_count": 3,
   "id": "adb02826",
   "metadata": {},
   "outputs": [
    {
     "data": {
      "text/plain": [
       "2"
      ]
     },
     "execution_count": 3,
     "metadata": {},
     "output_type": "execute_result"
    }
   ],
   "source": [
    "len(img.shape)"
   ]
  },
  {
   "cell_type": "code",
   "execution_count": 4,
   "id": "17c8c4a1",
   "metadata": {},
   "outputs": [],
   "source": [
    "# prepare filters bank\n",
    "l1_filter = np.zeros((2,3,3))\n",
    "# detect vertical edges\n",
    "l1_filter[0, :, :] = np.array([[[-1, 0, 1],\n",
    "                                 [-1, 0, 1],\n",
    "                                 [-1, 0, 1]]])\n",
    "# detect horizontal edges\n",
    "l1_filter[1, :, :] = np.array([[[1, 1, 1],\n",
    "                                 [0, 0, 0],\n",
    "                                 [-1, -1, -1]]])\n",
    "# If the image is RGB with 3 channels, the filter size must be (3, 3, 3=depth)"
   ]
  },
  {
   "cell_type": "code",
   "execution_count": 5,
   "id": "cd7b6fb4",
   "metadata": {},
   "outputs": [
    {
     "data": {
      "text/plain": [
       "3"
      ]
     },
     "execution_count": 5,
     "metadata": {},
     "output_type": "execute_result"
    }
   ],
   "source": [
    "l1_filter.shape[1]"
   ]
  },
  {
   "cell_type": "code",
   "execution_count": 6,
   "id": "ab81daba",
   "metadata": {},
   "outputs": [],
   "source": [
    "# define Conv function\n",
    "def conv(img, conv_filter):\n",
    "    # Check if number of image channels matches the filter depth.\n",
    "    if len(img.shape) > 2 or len(conv_filter.shape) > 3:\n",
    "        if img.shape[-1] != conv_filter.shape[-1]:\n",
    "            print(\"Error: Number of channels in both image and filter must match.\")\n",
    "            sys.exit()\n",
    "    # Check if filter dimensions are equal.\n",
    "    if conv_filter.shape[1] != conv_filter.shape[2]:\n",
    "        print('Error: Filter must be a square matrix. I.e. number of rows and columns must match.')  \n",
    "        sys.exit() \n",
    "    # Check if filter diemnsions are odd.\n",
    "    if conv_filter.shape[1]%2==0:\n",
    "        print('Error: Filter must have an odd size. I.e. number of rows and columns must be odd.')  \n",
    "        sys.exit()\n",
    "        \n",
    "    # An empty feature map to hold the output of convolving the filter(s) with the image.\n",
    "    feature_maps = np.zeros((img.shape[0]-conv_filter.shape[1]+1,\n",
    "                             img.shape[1]-conv_filter.shape[1]+1,\n",
    "                             conv_filter.shape[0]))\n",
    "    \n",
    "    # Convolving the image by the filter(s).\n",
    "    for filter_num in range(conv_filter.shape[0]):\n",
    "        print('filter', filter_num + 1)\n",
    "        # getting a filter from the bank.\n",
    "        curr_filter = conv_filter[filter_num, :]\n",
    "        \"\"\"  \n",
    "         Checking if there are mutliple channels for the single filter. \n",
    "         If so, then each channel will convolve the image. \n",
    "         The result of all convolutions are summed to return a single feature map. \n",
    "        \"\"\" \n",
    "        if len(curr_filter.shape) > 2:\n",
    "            # Array holding the sum of all feature maps.\n",
    "            conv_map = conv_(img[:,:,0], curr_filter[:,:,0])\n",
    "            # Convolving each channel with the image and summing the results.\n",
    "            for ch_num in range(1, curr_filter.shape[-1]):\n",
    "                conv_map = conv_map + conv_(img[:,:,ch_num],\n",
    "                                            curr_filter[:,:,ch_num])\n",
    "        # There is just a single channel in the filter.\n",
    "        else:\n",
    "            conv_map = conv_(img, curr_filter)\n",
    "        # Holding feature map with the current filter.\n",
    "        feature_maps[:,:,filter_num] = conv_map\n",
    "    # Returning all feature maps.\n",
    "    return feature_maps"
   ]
  },
  {
   "cell_type": "code",
   "execution_count": 7,
   "id": "61cb77f4",
   "metadata": {},
   "outputs": [],
   "source": [
    "# define conv_ function\n",
    "def conv_(img, conv_filter):\n",
    "    filter_size = conv_filter.shape[0]\n",
    "    result = np.zeros((img.shape))\n",
    "    # Looping through the image to apply the convolution operation.\n",
    "    for r in np.uint16(np.arange(filter_size/2,\n",
    "                                img.shape[0]-filter_size/2-2)):\n",
    "        for c in np.uint16(np.arange(filter_size/2, \n",
    "                                        img.shape[1]-filter_size/2-2)):\n",
    "            # Getting the current region to get multiplied with the filter. \n",
    "            curr_region = img[r:r+filter_size, c:c+filter_size]\n",
    "            # Element-wise multipliplication between the current region and the filter.\n",
    "            curr_result = curr_region * conv_filter\n",
    "            # Summing the result of multiplication. \n",
    "            conv_sum = np.sum(curr_result)\n",
    "            # Saving the summation in the convolution layer feature map\n",
    "            result[r, c] = conv_sum\n",
    "            \n",
    "    # clipping the outliers of the result matrix\n",
    "    final_result = result[np.uint16(filter_size/2):result.shape[0]-np.uint16(filter_size/2),\n",
    "                          np.uint16(filter_size/2):result.shape[1]-np.uint16(filter_size/2)]\n",
    "    return final_result"
   ]
  },
  {
   "cell_type": "code",
   "execution_count": 8,
   "id": "fb73b87c",
   "metadata": {},
   "outputs": [
    {
     "name": "stdout",
     "output_type": "stream",
     "text": [
      "filter 1\n",
      "filter 2\n"
     ]
    }
   ],
   "source": [
    "# Conv layer\n",
    "l1_feature_map = conv(img, l1_filter)"
   ]
  },
  {
   "cell_type": "code",
   "execution_count": 9,
   "id": "3d425d73",
   "metadata": {},
   "outputs": [
    {
     "data": {
      "text/plain": [
       "(298, 449, 2)"
      ]
     },
     "execution_count": 9,
     "metadata": {},
     "output_type": "execute_result"
    }
   ],
   "source": [
    "l1_feature_map.shape"
   ]
  },
  {
   "cell_type": "code",
   "execution_count": 10,
   "id": "bebaba9c",
   "metadata": {},
   "outputs": [],
   "source": [
    "# Define Relu function\n",
    "def relu(feature_map):\n",
    "    # Preparing the output of the ReLU activation function.\n",
    "    relu_out = np.zeros(feature_map.shape)\n",
    "    for map_num in range(feature_map.shape[-1]):\n",
    "        for r in np.arange(0, feature_map.shape[0]):\n",
    "            for c in np.arange(0, feature_map.shape[1]):\n",
    "                relu_out[r,c,map_num] = np.max(feature_map[r,c,map_num], 0)\n",
    "    return relu_out "
   ]
  },
  {
   "cell_type": "code",
   "execution_count": 11,
   "id": "dbb03a05",
   "metadata": {},
   "outputs": [],
   "source": [
    "# Apply Relu layer\n",
    "l1_feature_map_relu = relu(l1_feature_map)"
   ]
  },
  {
   "cell_type": "code",
   "execution_count": 12,
   "id": "cc3b1f08",
   "metadata": {},
   "outputs": [
    {
     "data": {
      "text/plain": [
       "(298, 449, 2)"
      ]
     },
     "execution_count": 12,
     "metadata": {},
     "output_type": "execute_result"
    }
   ],
   "source": [
    "l1_feature_map_relu.shape"
   ]
  },
  {
   "cell_type": "code",
   "execution_count": 13,
   "id": "0f8ed02d",
   "metadata": {},
   "outputs": [],
   "source": [
    "# Define pooling function\n",
    "def pooling(feature_map, size=2, stride=2):\n",
    "    # Preparing the output of the pooling operation.\n",
    "    pool_out = np.zeros((np.uint16((feature_map.shape[0]-size+1)/stride),\n",
    "                         np.uint16((feature_map.shape[1]-size+1)/stride),\n",
    "                         feature_map.shape[-1]))\n",
    "    for map_num in range(feature_map.shape[-1]):\n",
    "        r2 = 0\n",
    "        for r in np.arange(0, feature_map.shape[0]-size-1, stride):\n",
    "            c2 = 0\n",
    "            for c in np.arange(0, feature_map.shape[1]-size-1, stride):\n",
    "                pool_out[r2, c2, map_num] = np.max(feature_map[r:r+size,  c:c+size])\n",
    "                c2 = c2 + 1\n",
    "            r2 = r2 + 1\n",
    "    return pool_out"
   ]
  },
  {
   "cell_type": "code",
   "execution_count": 14,
   "id": "11e55af2",
   "metadata": {},
   "outputs": [],
   "source": [
    "# Max pooling layer\n",
    "l1_feature_map_relu_pool = pooling(l1_feature_map_relu, 2, 2)"
   ]
  },
  {
   "cell_type": "code",
   "execution_count": 15,
   "id": "4dae769a",
   "metadata": {},
   "outputs": [
    {
     "data": {
      "text/plain": [
       "(148, 224, 2)"
      ]
     },
     "execution_count": 15,
     "metadata": {},
     "output_type": "execute_result"
    }
   ],
   "source": [
    "l1_feature_map_relu_pool.shape"
   ]
  },
  {
   "cell_type": "code",
   "execution_count": 16,
   "id": "d9c4bdbc",
   "metadata": {},
   "outputs": [
    {
     "name": "stdout",
     "output_type": "stream",
     "text": [
      "\n",
      "**Working with conv layer 2**\n",
      "filter 1\n",
      "filter 2\n",
      "filter 3\n",
      "\n",
      "**ReLU**\n",
      "\n",
      "**Pooling**\n",
      "**End of conv layer 2**\n",
      "\n"
     ]
    }
   ],
   "source": [
    "# Stacking layers\n",
    "# second conv layer\n",
    "l2_filter = np.random.rand(3, 5, 5, l1_feature_map_relu_pool.shape[-1])\n",
    "print(\"\\n**Working with conv layer 2**\") \n",
    "l2_feature_map = conv(l1_feature_map_relu_pool, l2_filter)\n",
    "print(\"\\n**ReLU**\")\n",
    "l2_feature_map_relu = relu(l2_feature_map)\n",
    "print(\"\\n**Pooling**\")\n",
    "l2_feature_map_relu_pool = pooling(l2_feature_map_relu, 2, 2)\n",
    "print(\"**End of conv layer 2**\\n\")"
   ]
  },
  {
   "cell_type": "code",
   "execution_count": 17,
   "id": "3fee7794",
   "metadata": {},
   "outputs": [
    {
     "data": {
      "text/plain": [
       "(71, 109, 3)"
      ]
     },
     "execution_count": 17,
     "metadata": {},
     "output_type": "execute_result"
    }
   ],
   "source": [
    "l2_feature_map_relu_pool.shape"
   ]
  },
  {
   "cell_type": "code",
   "execution_count": 18,
   "id": "1c4f93ce",
   "metadata": {},
   "outputs": [
    {
     "name": "stdout",
     "output_type": "stream",
     "text": [
      "\n",
      "**Working with conv layer 3**\n",
      "filter 1\n",
      "\n",
      "**ReLU**\n",
      "\n",
      "**Pooling**\n",
      "**End of conv layer 3**\n",
      "\n"
     ]
    }
   ],
   "source": [
    "# Third conv layer  \n",
    "l3_filter = np.random.rand(1, 7, 7, l2_feature_map_relu_pool.shape[-1])  \n",
    "print(\"\\n**Working with conv layer 3**\")  \n",
    "l3_feature_map = conv(l2_feature_map_relu_pool, l3_filter)  \n",
    "print(\"\\n**ReLU**\")  \n",
    "l3_feature_map_relu = relu(l3_feature_map)  \n",
    "print(\"\\n**Pooling**\")  \n",
    "l3_feature_map_relu_pool = pooling(l3_feature_map_relu, 2, 2)  \n",
    "print(\"**End of conv layer 3**\\n\") "
   ]
  },
  {
   "cell_type": "code",
   "execution_count": 20,
   "id": "65470ce5",
   "metadata": {},
   "outputs": [],
   "source": [
    "import matplotlib.pyplot as plt"
   ]
  },
  {
   "cell_type": "code",
   "execution_count": 21,
   "id": "10a08bcb",
   "metadata": {},
   "outputs": [],
   "source": [
    "# Graphing results\n",
    "fig0, ax0 = matplotlib.pyplot.subplots(nrows=1, ncols=1)\n",
    "ax0.imshow(img).set_cmap(\"gray\")\n",
    "ax0.set_title(\"Input Image\")\n",
    "ax0.get_xaxis().set_ticks([])\n",
    "ax0.get_yaxis().set_ticks([])\n",
    "matplotlib.pyplot.savefig(\"in_img.png\", bbox_inches=\"tight\")\n",
    "matplotlib.pyplot.close(fig0)"
   ]
  },
  {
   "cell_type": "code",
   "execution_count": 22,
   "id": "563c907a",
   "metadata": {},
   "outputs": [],
   "source": [
    "# Layer 1\n",
    "fig1, ax1 = matplotlib.pyplot.subplots(nrows=3, ncols=2)\n",
    "ax1[0, 0].imshow(l1_feature_map[:, :, 0]).set_cmap(\"gray\")\n",
    "ax1[0, 0].get_xaxis().set_ticks([])\n",
    "ax1[0, 0].get_yaxis().set_ticks([])\n",
    "ax1[0, 0].set_title(\"L1-Map1\")\n",
    "\n",
    "ax1[0, 1].imshow(l1_feature_map[:, :, 1]).set_cmap(\"gray\")\n",
    "ax1[0, 1].get_xaxis().set_ticks([])\n",
    "ax1[0, 1].get_yaxis().set_ticks([])\n",
    "ax1[0, 1].set_title(\"L1-Map2\")\n",
    "\n",
    "ax1[1, 0].imshow(l1_feature_map_relu[:, :, 0]).set_cmap(\"gray\")\n",
    "ax1[1, 0].get_xaxis().set_ticks([])\n",
    "ax1[1, 0].get_yaxis().set_ticks([])\n",
    "ax1[1, 0].set_title(\"L1-Map1ReLU\")\n",
    "\n",
    "ax1[1, 1].imshow(l1_feature_map_relu[:, :, 1]).set_cmap(\"gray\")\n",
    "ax1[1, 1].get_xaxis().set_ticks([])\n",
    "ax1[1, 1].get_yaxis().set_ticks([])\n",
    "ax1[1, 1].set_title(\"L1-Map2ReLU\")\n",
    "\n",
    "ax1[2, 0].imshow(l1_feature_map_relu_pool[:, :, 0]).set_cmap(\"gray\")\n",
    "ax1[2, 0].get_xaxis().set_ticks([])\n",
    "ax1[2, 0].get_yaxis().set_ticks([])\n",
    "ax1[2, 0].set_title(\"L1-Map1ReLUPool\")\n",
    "\n",
    "ax1[2, 1].imshow(l1_feature_map_relu_pool[:, :, 1]).set_cmap(\"gray\")\n",
    "ax1[2, 0].get_xaxis().set_ticks([])\n",
    "ax1[2, 0].get_yaxis().set_ticks([])\n",
    "ax1[2, 1].set_title(\"L1-Map2ReLUPool\")\n",
    "\n",
    "matplotlib.pyplot.savefig(\"L1.png\", bbox_inches=\"tight\")\n",
    "matplotlib.pyplot.close(fig1)"
   ]
  },
  {
   "cell_type": "code",
   "execution_count": 23,
   "id": "1a77c880",
   "metadata": {},
   "outputs": [],
   "source": [
    "# Layer 2\n",
    "fig2, ax2 = matplotlib.pyplot.subplots(nrows=3, ncols=3)\n",
    "ax2[0, 0].imshow(l2_feature_map[:, :, 0]).set_cmap(\"gray\")\n",
    "ax2[0, 0].get_xaxis().set_ticks([])\n",
    "ax2[0, 0].get_yaxis().set_ticks([])\n",
    "ax2[0, 0].set_title(\"L2-Map1\")\n",
    "\n",
    "ax2[0, 1].imshow(l2_feature_map[:, :, 1]).set_cmap(\"gray\")\n",
    "ax2[0, 1].get_xaxis().set_ticks([])\n",
    "ax2[0, 1].get_yaxis().set_ticks([])\n",
    "ax2[0, 1].set_title(\"L2-Map2\")\n",
    "\n",
    "ax2[0, 2].imshow(l2_feature_map[:, :, 2]).set_cmap(\"gray\")\n",
    "ax2[0, 2].get_xaxis().set_ticks([])\n",
    "ax2[0, 2].get_yaxis().set_ticks([])\n",
    "ax2[0, 2].set_title(\"L2-Map3\")\n",
    "\n",
    "ax2[1, 0].imshow(l2_feature_map_relu[:, :, 0]).set_cmap(\"gray\")\n",
    "ax2[1, 0].get_xaxis().set_ticks([])\n",
    "ax2[1, 0].get_yaxis().set_ticks([])\n",
    "ax2[1, 0].set_title(\"L2-Map1ReLU\")\n",
    "\n",
    "ax2[1, 1].imshow(l2_feature_map_relu[:, :, 1]).set_cmap(\"gray\")\n",
    "ax2[1, 1].get_xaxis().set_ticks([])\n",
    "ax2[1, 1].get_yaxis().set_ticks([])\n",
    "ax2[1, 1].set_title(\"L2-Map2ReLU\")\n",
    "\n",
    "ax2[1, 2].imshow(l2_feature_map_relu[:, :, 2]).set_cmap(\"gray\")\n",
    "ax2[1, 2].get_xaxis().set_ticks([])\n",
    "ax2[1, 2].get_yaxis().set_ticks([])\n",
    "ax2[1, 2].set_title(\"L2-Map3ReLU\")\n",
    "\n",
    "ax2[2, 0].imshow(l2_feature_map_relu_pool[:, :, 0]).set_cmap(\"gray\")\n",
    "ax2[2, 0].get_xaxis().set_ticks([])\n",
    "ax2[2, 0].get_yaxis().set_ticks([])\n",
    "ax2[2, 0].set_title(\"L2-Map1ReLUPool\")\n",
    "\n",
    "ax2[2, 1].imshow(l2_feature_map_relu_pool[:, :, 1]).set_cmap(\"gray\")\n",
    "ax2[2, 1].get_xaxis().set_ticks([])\n",
    "ax2[2, 1].get_yaxis().set_ticks([])\n",
    "ax2[2, 1].set_title(\"L2-Map2ReLUPool\")\n",
    "\n",
    "ax2[2, 2].imshow(l2_feature_map_relu_pool[:, :, 2]).set_cmap(\"gray\")\n",
    "ax2[2, 2].get_xaxis().set_ticks([])\n",
    "ax2[2, 2].get_yaxis().set_ticks([])\n",
    "ax2[2, 2].set_title(\"L2-Map3ReLUPool\")\n",
    "\n",
    "matplotlib.pyplot.savefig(\"L2.png\", bbox_inches=\"tight\")\n",
    "matplotlib.pyplot.close(fig2)"
   ]
  },
  {
   "cell_type": "code",
   "execution_count": 24,
   "id": "6f11bdd1",
   "metadata": {},
   "outputs": [],
   "source": [
    "# Layer 3\n",
    "fig3, ax3 = matplotlib.pyplot.subplots(nrows=1, ncols=3)\n",
    "ax3[0].imshow(l3_feature_map[:, :, 0]).set_cmap(\"gray\")\n",
    "ax3[0].get_xaxis().set_ticks([])\n",
    "ax3[0].get_yaxis().set_ticks([])\n",
    "ax3[0].set_title(\"L3-Map1\")\n",
    "\n",
    "ax3[1].imshow(l3_feature_map_relu[:, :, 0]).set_cmap(\"gray\")\n",
    "ax3[1].get_xaxis().set_ticks([])\n",
    "ax3[1].get_yaxis().set_ticks([])\n",
    "ax3[1].set_title(\"L3-Map1ReLU\")\n",
    "\n",
    "ax3[2].imshow(l3_feature_map_relu_pool[:, :, 0]).set_cmap(\"gray\")\n",
    "ax3[2].get_xaxis().set_ticks([])\n",
    "ax3[2].get_yaxis().set_ticks([])\n",
    "ax3[2].set_title(\"L3-Map1ReLUPool\")\n",
    "\n",
    "matplotlib.pyplot.savefig(\"L3.png\", bbox_inches=\"tight\")\n",
    "matplotlib.pyplot.close(fig3)"
   ]
  },
  {
   "cell_type": "code",
   "execution_count": null,
   "id": "1b3ef904",
   "metadata": {},
   "outputs": [],
   "source": []
  }
 ],
 "metadata": {
  "kernelspec": {
   "display_name": "Python 3 (ipykernel)",
   "language": "python",
   "name": "python3"
  },
  "language_info": {
   "codemirror_mode": {
    "name": "ipython",
    "version": 3
   },
   "file_extension": ".py",
   "mimetype": "text/x-python",
   "name": "python",
   "nbconvert_exporter": "python",
   "pygments_lexer": "ipython3",
   "version": "3.11.4"
  }
 },
 "nbformat": 4,
 "nbformat_minor": 5
}
